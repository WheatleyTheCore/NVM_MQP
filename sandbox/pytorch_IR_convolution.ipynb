{
 "cells": [
  {
   "cell_type": "markdown",
   "id": "7620e48b",
   "metadata": {},
   "source": [
    "# A simple IR reverb example using PyTorch's pre-built stuff\n",
    "You need to make sure you have the required packages and audio assets installed, see requirements.txt and the installer script in this directory."
   ]
  },
  {
   "cell_type": "code",
   "execution_count": 10,
   "id": "8f5e564f",
   "metadata": {},
   "outputs": [],
   "source": [
    "import torchaudio\n",
    "import torchaudio.functional as F\n",
    "import torch\n",
    "\n",
    "# Load the impulse response and normalise\n",
    "rir, rir_sample_rate = torchaudio.load('assets/room-impulse-responses/irs/MIT_Survey/h047_Hallway_MIT_4txts.wav')\n",
    "\n",
    "note, note_sample_rate = torchaudio.load('assets/pianoNotes/wav/e1.wav') # this is the incorrect note name.....\n",
    "\n",
    "if note_sample_rate != rir_sample_rate:\n",
    "    resampler = torchaudio.transforms.Resample(orig_freq=rir_sample_rate, new_freq=note_sample_rate)\n",
    "    rir = resampler(rir)\n",
    "    \n",
    "    \n",
    "# normalize so we don't get volume/distortion issues (otherwise it will be loud)\n",
    "rir = rir / torch.linalg.vector_norm(rir, ord=2)\n",
    "\n",
    "# Convolve note with room impulse response\n",
    "note_with_reverb = F.fftconvolve(note, rir)\n",
    "\n",
    "torchaudio.save('assets/note_with_reverb.wav', note_with_reverb, note_sample_rate)"
   ]
  }
 ],
 "metadata": {
  "kernelspec": {
   "display_name": "venv",
   "language": "python",
   "name": "python3"
  },
  "language_info": {
   "codemirror_mode": {
    "name": "ipython",
    "version": 3
   },
   "file_extension": ".py",
   "mimetype": "text/x-python",
   "name": "python",
   "nbconvert_exporter": "python",
   "pygments_lexer": "ipython3",
   "version": "3.12.3"
  }
 },
 "nbformat": 4,
 "nbformat_minor": 5
}
